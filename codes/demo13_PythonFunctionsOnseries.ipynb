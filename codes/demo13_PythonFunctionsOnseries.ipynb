{
 "cells": [
  {
   "cell_type": "code",
   "execution_count": 2,
   "metadata": {},
   "outputs": [],
   "source": [
    "import numpy as np\n",
    "import pandas as pd"
   ]
  },
  {
   "cell_type": "code",
   "execution_count": 3,
   "metadata": {},
   "outputs": [
    {
     "data": {
      "text/plain": [
       "0                         Apples\n",
       "1             Apples, applesauce\n",
       "2         Apples, ready-to-drink\n",
       "3     Apples, frozen concentrate\n",
       "4                       Apricots\n",
       "                 ...            \n",
       "57                   Raspberries\n",
       "58                   Raspberries\n",
       "59                  Strawberries\n",
       "60                  Strawberries\n",
       "61                    Watermelon\n",
       "Name: Fruit, Length: 62, dtype: object"
      ]
     },
     "execution_count": 3,
     "metadata": {},
     "output_type": "execute_result"
    }
   ],
   "source": [
    "fruit_names = pd.read_csv('fruit_prices.csv',usecols=['Fruit']).squeeze(\"columns\")\n",
    "fruit_names"
   ]
  },
  {
   "cell_type": "code",
   "execution_count": 4,
   "metadata": {},
   "outputs": [
    {
     "data": {
      "text/plain": [
       "0     1.5193\n",
       "1     1.0660\n",
       "2     0.7804\n",
       "3     0.5853\n",
       "4     2.9665\n",
       "       ...  \n",
       "57    6.6391\n",
       "58    4.1877\n",
       "59    2.5800\n",
       "60    2.8189\n",
       "61    0.3604\n",
       "Name: RetailPrice, Length: 62, dtype: float64"
      ]
     },
     "execution_count": 4,
     "metadata": {},
     "output_type": "execute_result"
    }
   ],
   "source": [
    "fruit_prices = pd.read_csv('fruit_prices.csv',usecols=['RetailPrice']).squeeze(\"columns\")\n",
    "fruit_prices"
   ]
  },
  {
   "cell_type": "code",
   "execution_count": 9,
   "metadata": {},
   "outputs": [
    {
     "data": {
      "text/plain": [
       "[1.5193,\n",
       " 1.066,\n",
       " 0.7804,\n",
       " 0.5853,\n",
       " 2.9665,\n",
       " 1.6905,\n",
       " 2.06,\n",
       " 6.6188,\n",
       " 0.5249,\n",
       " 3.5585,\n",
       " 6.0172,\n",
       " 3.6362,\n",
       " 4.1739,\n",
       " 3.3898,\n",
       " 0.5767,\n",
       " 3.4269,\n",
       " 4.5257,\n",
       " 1.3847,\n",
       " 4.6513,\n",
       " 5.5713,\n",
       " 6.8371,\n",
       " 1.7198,\n",
       " 1.5932,\n",
       " 1.1695,\n",
       " 1.0415,\n",
       " 1.8398,\n",
       " 3.7801,\n",
       " 0.9215,\n",
       " 0.7119,\n",
       " 0.9056,\n",
       " 2.1849,\n",
       " 1.1513,\n",
       " 10.5527,\n",
       " 1.9062,\n",
       " 1.2131,\n",
       " 0.9842,\n",
       " 0.769,\n",
       " 1.2904,\n",
       " 5.5089,\n",
       " 1.7167,\n",
       " 2.0237,\n",
       " 1.8117,\n",
       " 3.3867,\n",
       " 1.5865,\n",
       " 1.9546,\n",
       " 1.897,\n",
       " 0.5685,\n",
       " 1.4344,\n",
       " 1.4067,\n",
       " 6.6492,\n",
       " 1.0288,\n",
       " 0.6973,\n",
       " 2.0292,\n",
       " 5.7042,\n",
       " 1.5522,\n",
       " 2.235,\n",
       " 3.122,\n",
       " 6.6391,\n",
       " 4.1877,\n",
       " 2.58,\n",
       " 2.8189,\n",
       " 0.3604]"
      ]
     },
     "execution_count": 9,
     "metadata": {},
     "output_type": "execute_result"
    }
   ],
   "source": [
    "price_list = list(fruit_prices)\n",
    "price_list"
   ]
  },
  {
   "cell_type": "code",
   "execution_count": 8,
   "metadata": {},
   "outputs": [
    {
     "data": {
      "text/plain": [
       "['Apples',\n",
       " 'Apples, applesauce',\n",
       " 'Apples, ready-to-drink',\n",
       " 'Apples, frozen concentrate',\n",
       " 'Apricots',\n",
       " 'Apricots, packed in juice',\n",
       " 'Apricots, packed in syrup or water',\n",
       " 'Apricots',\n",
       " 'Bananas',\n",
       " 'Berries, mixed',\n",
       " 'Blackberries',\n",
       " 'Blackberries',\n",
       " 'Blueberries',\n",
       " 'Blueberries',\n",
       " 'Cantaloupe',\n",
       " 'Cherries',\n",
       " 'Cherries, packed in syrup or water',\n",
       " 'Clementines',\n",
       " 'Cranberries',\n",
       " 'Dates',\n",
       " 'Figs',\n",
       " 'Fruit cocktail, packed in juice',\n",
       " 'Fruit cocktail, packed in syrup or water',\n",
       " 'Grapefruit',\n",
       " 'Grapefruit, ready-to-drink',\n",
       " 'Grapes',\n",
       " 'Grapes (raisins)',\n",
       " 'Grapes, ready-to-drink',\n",
       " 'Grapes, frozen concentrate',\n",
       " 'Honeydew',\n",
       " 'Kiwi',\n",
       " 'Mangoes',\n",
       " 'Mangoes',\n",
       " 'Nectarines',\n",
       " 'Oranges',\n",
       " 'Oranges, ready-to-drink',\n",
       " 'Oranges, frozen concentrate',\n",
       " 'Papaya',\n",
       " 'Papaya',\n",
       " 'Peaches',\n",
       " 'Peaches, packed in juice',\n",
       " 'Peaches, packed in syrup or water',\n",
       " 'Peaches',\n",
       " 'Pears',\n",
       " 'Pears, packed in juice',\n",
       " 'Pears, packed in syrup or water',\n",
       " 'Pineapple',\n",
       " 'Pineapple, packed in juice',\n",
       " 'Pineapple, packed in syrup or water',\n",
       " 'Pineapple',\n",
       " 'Pineapple, ready-to-drink',\n",
       " 'Pineapple, frozen concentrate',\n",
       " 'Plum',\n",
       " 'Plum (prunes)',\n",
       " 'Plum (prune), ready-to-drink',\n",
       " 'Pomegranate',\n",
       " 'Pomegranate, ready-to-drink',\n",
       " 'Raspberries',\n",
       " 'Raspberries',\n",
       " 'Strawberries',\n",
       " 'Strawberries',\n",
       " 'Watermelon']"
      ]
     },
     "execution_count": 8,
     "metadata": {},
     "output_type": "execute_result"
    }
   ],
   "source": [
    "fruit_list = list(fruit_names)\n",
    "fruit_list"
   ]
  },
  {
   "cell_type": "code",
   "execution_count": 12,
   "metadata": {},
   "outputs": [
    {
     "data": {
      "text/plain": [
       "{0: 'Apples',\n",
       " 1: 'Apples, applesauce',\n",
       " 2: 'Apples, ready-to-drink',\n",
       " 3: 'Apples, frozen concentrate',\n",
       " 4: 'Apricots',\n",
       " 5: 'Apricots, packed in juice',\n",
       " 6: 'Apricots, packed in syrup or water',\n",
       " 7: 'Apricots',\n",
       " 8: 'Bananas',\n",
       " 9: 'Berries, mixed',\n",
       " 10: 'Blackberries',\n",
       " 11: 'Blackberries',\n",
       " 12: 'Blueberries',\n",
       " 13: 'Blueberries',\n",
       " 14: 'Cantaloupe',\n",
       " 15: 'Cherries',\n",
       " 16: 'Cherries, packed in syrup or water',\n",
       " 17: 'Clementines',\n",
       " 18: 'Cranberries',\n",
       " 19: 'Dates',\n",
       " 20: 'Figs',\n",
       " 21: 'Fruit cocktail, packed in juice',\n",
       " 22: 'Fruit cocktail, packed in syrup or water',\n",
       " 23: 'Grapefruit',\n",
       " 24: 'Grapefruit, ready-to-drink',\n",
       " 25: 'Grapes',\n",
       " 26: 'Grapes (raisins)',\n",
       " 27: 'Grapes, ready-to-drink',\n",
       " 28: 'Grapes, frozen concentrate',\n",
       " 29: 'Honeydew',\n",
       " 30: 'Kiwi',\n",
       " 31: 'Mangoes',\n",
       " 32: 'Mangoes',\n",
       " 33: 'Nectarines',\n",
       " 34: 'Oranges',\n",
       " 35: 'Oranges, ready-to-drink',\n",
       " 36: 'Oranges, frozen concentrate',\n",
       " 37: 'Papaya',\n",
       " 38: 'Papaya',\n",
       " 39: 'Peaches',\n",
       " 40: 'Peaches, packed in juice',\n",
       " 41: 'Peaches, packed in syrup or water',\n",
       " 42: 'Peaches',\n",
       " 43: 'Pears',\n",
       " 44: 'Pears, packed in juice',\n",
       " 45: 'Pears, packed in syrup or water',\n",
       " 46: 'Pineapple',\n",
       " 47: 'Pineapple, packed in juice',\n",
       " 48: 'Pineapple, packed in syrup or water',\n",
       " 49: 'Pineapple',\n",
       " 50: 'Pineapple, ready-to-drink',\n",
       " 51: 'Pineapple, frozen concentrate',\n",
       " 52: 'Plum',\n",
       " 53: 'Plum (prunes)',\n",
       " 54: 'Plum (prune), ready-to-drink',\n",
       " 55: 'Pomegranate',\n",
       " 56: 'Pomegranate, ready-to-drink',\n",
       " 57: 'Raspberries',\n",
       " 58: 'Raspberries',\n",
       " 59: 'Strawberries',\n",
       " 60: 'Strawberries',\n",
       " 61: 'Watermelon'}"
      ]
     },
     "execution_count": 12,
     "metadata": {},
     "output_type": "execute_result"
    }
   ],
   "source": [
    "fruit_dictionary = dict(fruit_names)\n",
    "fruit_dictionary"
   ]
  },
  {
   "cell_type": "code",
   "execution_count": 13,
   "metadata": {},
   "outputs": [
    {
     "data": {
      "text/plain": [
       "'Apricots, packed in juice'"
      ]
     },
     "execution_count": 13,
     "metadata": {},
     "output_type": "execute_result"
    }
   ],
   "source": [
    "fruit_dictionary[5]"
   ]
  },
  {
   "cell_type": "code",
   "execution_count": 14,
   "metadata": {},
   "outputs": [
    {
     "data": {
      "text/plain": [
       "list"
      ]
     },
     "execution_count": 14,
     "metadata": {},
     "output_type": "execute_result"
    }
   ],
   "source": [
    "type(fruit_list)"
   ]
  },
  {
   "cell_type": "code",
   "execution_count": 15,
   "metadata": {},
   "outputs": [
    {
     "data": {
      "text/plain": [
       "pandas.core.series.Series"
      ]
     },
     "execution_count": 15,
     "metadata": {},
     "output_type": "execute_result"
    }
   ],
   "source": [
    "type(fruit_names)"
   ]
  },
  {
   "cell_type": "code",
   "execution_count": 16,
   "metadata": {},
   "outputs": [
    {
     "data": {
      "text/plain": [
       "dict"
      ]
     },
     "execution_count": 16,
     "metadata": {},
     "output_type": "execute_result"
    }
   ],
   "source": [
    "type(fruit_dictionary)"
   ]
  },
  {
   "cell_type": "code",
   "execution_count": 17,
   "metadata": {},
   "outputs": [
    {
     "data": {
      "text/plain": [
       "[0.3604,\n",
       " 0.5249,\n",
       " 0.5685,\n",
       " 0.5767,\n",
       " 0.5853,\n",
       " 0.6973,\n",
       " 0.7119,\n",
       " 0.769,\n",
       " 0.7804,\n",
       " 0.9056,\n",
       " 0.9215,\n",
       " 0.9842,\n",
       " 1.0288,\n",
       " 1.0415,\n",
       " 1.066,\n",
       " 1.1513,\n",
       " 1.1695,\n",
       " 1.2131,\n",
       " 1.2904,\n",
       " 1.3847,\n",
       " 1.4067,\n",
       " 1.4344,\n",
       " 1.5193,\n",
       " 1.5522,\n",
       " 1.5865,\n",
       " 1.5932,\n",
       " 1.6905,\n",
       " 1.7167,\n",
       " 1.7198,\n",
       " 1.8117,\n",
       " 1.8398,\n",
       " 1.897,\n",
       " 1.9062,\n",
       " 1.9546,\n",
       " 2.0237,\n",
       " 2.0292,\n",
       " 2.06,\n",
       " 2.1849,\n",
       " 2.235,\n",
       " 2.58,\n",
       " 2.8189,\n",
       " 2.9665,\n",
       " 3.122,\n",
       " 3.3867,\n",
       " 3.3898,\n",
       " 3.4269,\n",
       " 3.5585,\n",
       " 3.6362,\n",
       " 3.7801,\n",
       " 4.1739,\n",
       " 4.1877,\n",
       " 4.5257,\n",
       " 4.6513,\n",
       " 5.5089,\n",
       " 5.5713,\n",
       " 5.7042,\n",
       " 6.0172,\n",
       " 6.6188,\n",
       " 6.6391,\n",
       " 6.6492,\n",
       " 6.8371,\n",
       " 10.5527]"
      ]
     },
     "execution_count": 17,
     "metadata": {},
     "output_type": "execute_result"
    }
   ],
   "source": [
    "sorted(fruit_prices)"
   ]
  },
  {
   "cell_type": "code",
   "execution_count": 19,
   "metadata": {},
   "outputs": [
    {
     "data": {
      "text/plain": [
       "True"
      ]
     },
     "execution_count": 19,
     "metadata": {},
     "output_type": "execute_result"
    }
   ],
   "source": [
    "\"Apples\" in fruit_names.values"
   ]
  },
  {
   "cell_type": "code",
   "execution_count": null,
   "metadata": {},
   "outputs": [],
   "source": []
  }
 ],
 "metadata": {
  "kernelspec": {
   "display_name": "Python 3",
   "language": "python",
   "name": "python3"
  },
  "language_info": {
   "codemirror_mode": {
    "name": "ipython",
    "version": 3
   },
   "file_extension": ".py",
   "mimetype": "text/x-python",
   "name": "python",
   "nbconvert_exporter": "python",
   "pygments_lexer": "ipython3",
   "version": "3.12.4"
  }
 },
 "nbformat": 4,
 "nbformat_minor": 2
}
