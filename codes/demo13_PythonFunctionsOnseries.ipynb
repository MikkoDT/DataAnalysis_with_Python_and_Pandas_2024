{
 "cells": [
  {
   "cell_type": "code",
   "execution_count": 2,
   "metadata": {},
   "outputs": [],
   "source": [
    "import numpy as np\n",
    "import pandas as pd"
   ]
  },
  {
   "cell_type": "code",
   "execution_count": 3,
   "metadata": {},
   "outputs": [
    {
     "data": {
      "text/plain": [
       "0                         Apples\n",
       "1             Apples, applesauce\n",
       "2         Apples, ready-to-drink\n",
       "3     Apples, frozen concentrate\n",
       "4                       Apricots\n",
       "                 ...            \n",
       "57                   Raspberries\n",
       "58                   Raspberries\n",
       "59                  Strawberries\n",
       "60                  Strawberries\n",
       "61                    Watermelon\n",
       "Name: Fruit, Length: 62, dtype: object"
      ]
     },
     "execution_count": 3,
     "metadata": {},
     "output_type": "execute_result"
    }
   ],
   "source": [
    "fruit_names = pd.read_csv('fruit_prices.csv',usecols=['Fruit']).squeeze(\"columns\")\n",
    "fruit_names"
   ]
  },
  {
   "cell_type": "code",
   "execution_count": 4,
   "metadata": {},
   "outputs": [
    {
     "data": {
      "text/plain": [
       "0     1.5193\n",
       "1     1.0660\n",
       "2     0.7804\n",
       "3     0.5853\n",
       "4     2.9665\n",
       "       ...  \n",
       "57    6.6391\n",
       "58    4.1877\n",
       "59    2.5800\n",
       "60    2.8189\n",
       "61    0.3604\n",
       "Name: RetailPrice, Length: 62, dtype: float64"
      ]
     },
     "execution_count": 4,
     "metadata": {},
     "output_type": "execute_result"
    }
   ],
   "source": [
    "fruit_prices = pd.read_csv('fruit_prices.csv',usecols=['RetailPrice']).squeeze(\"columns\")\n",
    "fruit_prices"
   ]
  },
  {
   "cell_type": "code",
   "execution_count": null,
   "metadata": {},
   "outputs": [],
   "source": []
  }
 ],
 "metadata": {
  "kernelspec": {
   "display_name": "Python 3",
   "language": "python",
   "name": "python3"
  },
  "language_info": {
   "codemirror_mode": {
    "name": "ipython",
    "version": 3
   },
   "file_extension": ".py",
   "mimetype": "text/x-python",
   "name": "python",
   "nbconvert_exporter": "python",
   "pygments_lexer": "ipython3",
   "version": "3.12.4"
  }
 },
 "nbformat": 4,
 "nbformat_minor": 2
}
