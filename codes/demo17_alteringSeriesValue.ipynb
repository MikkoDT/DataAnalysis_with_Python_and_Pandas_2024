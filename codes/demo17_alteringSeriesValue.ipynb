{
 "cells": [
  {
   "cell_type": "code",
   "execution_count": 1,
   "metadata": {},
   "outputs": [],
   "source": [
    "import numpy as np\n",
    "import pandas as pd\n",
    "from pandas import Series"
   ]
  },
  {
   "cell_type": "code",
   "execution_count": 2,
   "metadata": {},
   "outputs": [
    {
     "data": {
      "text/plain": [
       "0                         Apples\n",
       "1             Apples, applesauce\n",
       "2         Apples, ready-to-drink\n",
       "3     Apples, frozen concentrate\n",
       "4                       Apricots\n",
       "                 ...            \n",
       "57                   Raspberries\n",
       "58                   Raspberries\n",
       "59                  Strawberries\n",
       "60                  Strawberries\n",
       "61                    Watermelon\n",
       "Name: Fruit, Length: 62, dtype: object"
      ]
     },
     "execution_count": 2,
     "metadata": {},
     "output_type": "execute_result"
    }
   ],
   "source": [
    "fruit_names = pd.read_csv('fruit_prices.csv',usecols=['Fruit']).squeeze(\"columns\")\n",
    "fruit_names"
   ]
  },
  {
   "cell_type": "code",
   "execution_count": 3,
   "metadata": {},
   "outputs": [
    {
     "data": {
      "text/plain": [
       "0     1.5193\n",
       "1     1.0660\n",
       "2     0.7804\n",
       "3     0.5853\n",
       "4     2.9665\n",
       "       ...  \n",
       "57    6.6391\n",
       "58    4.1877\n",
       "59    2.5800\n",
       "60    2.8189\n",
       "61    0.3604\n",
       "Name: RetailPrice, Length: 62, dtype: float64"
      ]
     },
     "execution_count": 3,
     "metadata": {},
     "output_type": "execute_result"
    }
   ],
   "source": [
    "fruit_prices = pd.read_csv('fruit_prices.csv',usecols=['RetailPrice']).squeeze(\"columns\")\n",
    "fruit_prices"
   ]
  },
  {
   "cell_type": "code",
   "execution_count": 6,
   "metadata": {},
   "outputs": [
    {
     "data": {
      "text/plain": [
       "0                         Orange\n",
       "1             Apples, applesauce\n",
       "2         Apples, ready-to-drink\n",
       "3     Apples, frozen concentrate\n",
       "4                       Apricots\n",
       "                 ...            \n",
       "57                   Raspberries\n",
       "58                   Raspberries\n",
       "59                  Strawberries\n",
       "60                  Strawberries\n",
       "61                    Watermelon\n",
       "Name: Fruit, Length: 62, dtype: object"
      ]
     },
     "execution_count": 6,
     "metadata": {},
     "output_type": "execute_result"
    }
   ],
   "source": [
    "fruit_names.iloc[0] = \"Orange\"\n",
    "fruit_names"
   ]
  },
  {
   "cell_type": "code",
   "execution_count": 8,
   "metadata": {},
   "outputs": [
    {
     "data": {
      "text/plain": [
       "0           Orange\n",
       "1            Peach\n",
       "2        Pineapple\n",
       "3       Watermelon\n",
       "4         Apricots\n",
       "          ...     \n",
       "57     Raspberries\n",
       "58     Raspberries\n",
       "59    Strawberries\n",
       "60    Strawberries\n",
       "61      Watermelon\n",
       "Name: Fruit, Length: 62, dtype: object"
      ]
     },
     "execution_count": 8,
     "metadata": {},
     "output_type": "execute_result"
    }
   ],
   "source": [
    "fruit_names[[1,2,3]]=[\"Peach\",\"Pineapple\",\"Watermelon\"]\n",
    "fruit_names"
   ]
  },
  {
   "cell_type": "code",
   "execution_count": 9,
   "metadata": {},
   "outputs": [
    {
     "data": {
      "text/plain": [
       "apple     10\n",
       "banana    20\n",
       "cherry    30\n",
       "date      40\n",
       "dtype: int64"
      ]
     },
     "execution_count": 9,
     "metadata": {},
     "output_type": "execute_result"
    }
   ],
   "source": [
    "s=pd.Series([10,20,30,40],index=['apple','banana','cherry','date'])\n",
    "s"
   ]
  },
  {
   "cell_type": "code",
   "execution_count": 11,
   "metadata": {},
   "outputs": [
    {
     "data": {
      "text/plain": [
       "apple      10\n",
       "banana    200\n",
       "cherry     30\n",
       "date       40\n",
       "dtype: int64"
      ]
     },
     "execution_count": 11,
     "metadata": {},
     "output_type": "execute_result"
    }
   ],
   "source": [
    "s.loc['banana'] = 200\n",
    "s"
   ]
  },
  {
   "cell_type": "code",
   "execution_count": 12,
   "metadata": {},
   "outputs": [
    {
     "data": {
      "text/plain": [
       "apple       1\n",
       "banana    200\n",
       "cherry      3\n",
       "date       40\n",
       "dtype: int64"
      ]
     },
     "execution_count": 12,
     "metadata": {},
     "output_type": "execute_result"
    }
   ],
   "source": [
    "s.loc[['apple','cherry']] = [1,3]\n",
    "s"
   ]
  },
  {
   "cell_type": "code",
   "execution_count": 13,
   "metadata": {},
   "outputs": [
    {
     "data": {
      "text/plain": [
       "apple      1\n",
       "banana    25\n",
       "cherry    35\n",
       "date      45\n",
       "dtype: int64"
      ]
     },
     "execution_count": 13,
     "metadata": {},
     "output_type": "execute_result"
    }
   ],
   "source": [
    "s.loc['banana':'date'] = [25,35,45]\n",
    "s"
   ]
  },
  {
   "cell_type": "code",
   "execution_count": null,
   "metadata": {},
   "outputs": [],
   "source": []
  }
 ],
 "metadata": {
  "kernelspec": {
   "display_name": "Python 3",
   "language": "python",
   "name": "python3"
  },
  "language_info": {
   "codemirror_mode": {
    "name": "ipython",
    "version": 3
   },
   "file_extension": ".py",
   "mimetype": "text/x-python",
   "name": "python",
   "nbconvert_exporter": "python",
   "pygments_lexer": "ipython3",
   "version": "3.12.4"
  }
 },
 "nbformat": 4,
 "nbformat_minor": 2
}
