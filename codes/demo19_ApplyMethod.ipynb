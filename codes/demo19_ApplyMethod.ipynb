{
 "cells": [
  {
   "cell_type": "code",
   "execution_count": 1,
   "metadata": {},
   "outputs": [],
   "source": [
    "import numpy as np\n",
    "import pandas as pd\n",
    "from pandas import Series"
   ]
  },
  {
   "cell_type": "code",
   "execution_count": 2,
   "metadata": {},
   "outputs": [
    {
     "data": {
      "text/plain": [
       "0                         Apples\n",
       "1             Apples, applesauce\n",
       "2         Apples, ready-to-drink\n",
       "3     Apples, frozen concentrate\n",
       "4                       Apricots\n",
       "                 ...            \n",
       "57                   Raspberries\n",
       "58                   Raspberries\n",
       "59                  Strawberries\n",
       "60                  Strawberries\n",
       "61                    Watermelon\n",
       "Name: Fruit, Length: 62, dtype: object"
      ]
     },
     "execution_count": 2,
     "metadata": {},
     "output_type": "execute_result"
    }
   ],
   "source": [
    "fruit_names = pd.read_csv('fruit_prices.csv',usecols=['Fruit']).squeeze(\"columns\")\n",
    "fruit_names"
   ]
  },
  {
   "cell_type": "code",
   "execution_count": 3,
   "metadata": {},
   "outputs": [
    {
     "data": {
      "text/plain": [
       "0     1.5193\n",
       "1     1.0660\n",
       "2     0.7804\n",
       "3     0.5853\n",
       "4     2.9665\n",
       "       ...  \n",
       "57    6.6391\n",
       "58    4.1877\n",
       "59    2.5800\n",
       "60    2.8189\n",
       "61    0.3604\n",
       "Name: RetailPrice, Length: 62, dtype: float64"
      ]
     },
     "execution_count": 3,
     "metadata": {},
     "output_type": "execute_result"
    }
   ],
   "source": [
    "fruit_prices = pd.read_csv('fruit_prices.csv',usecols=['RetailPrice']).squeeze(\"columns\")\n",
    "fruit_prices"
   ]
  },
  {
   "cell_type": "code",
   "execution_count": 4,
   "metadata": {},
   "outputs": [
    {
     "data": {
      "text/plain": [
       "0    100\n",
       "1    200\n",
       "2    300\n",
       "3    400\n",
       "4    500\n",
       "dtype: int64"
      ]
     },
     "execution_count": 4,
     "metadata": {},
     "output_type": "execute_result"
    }
   ],
   "source": [
    "prices = [100,200,300,400,500]\n",
    "prices_series = pd.Series(prices)\n",
    "prices_series"
   ]
  },
  {
   "cell_type": "code",
   "execution_count": 5,
   "metadata": {},
   "outputs": [],
   "source": [
    "def summer_discount(x):\n",
    "    return x - (x*0.1)"
   ]
  },
  {
   "cell_type": "code",
   "execution_count": 6,
   "metadata": {},
   "outputs": [
    {
     "data": {
      "text/plain": [
       "0     90.0\n",
       "1    180.0\n",
       "2    270.0\n",
       "3    360.0\n",
       "4    450.0\n",
       "dtype: float64"
      ]
     },
     "execution_count": 6,
     "metadata": {},
     "output_type": "execute_result"
    }
   ],
   "source": [
    "prices_series.apply(summer_discount)"
   ]
  },
  {
   "cell_type": "code",
   "execution_count": 9,
   "metadata": {},
   "outputs": [
    {
     "data": {
      "text/plain": [
       "0    Pass\n",
       "1    Pass\n",
       "2    Pass\n",
       "3    Fail\n",
       "4    Fail\n",
       "5    Pass\n",
       "6    Pass\n",
       "dtype: object"
      ]
     },
     "execution_count": 9,
     "metadata": {},
     "output_type": "execute_result"
    }
   ],
   "source": [
    "scores = pd.Series([56,78,91,34,23,43,59])\n",
    "def pass_or_fail(num):\n",
    "    if num>=35:\n",
    "        return \"Pass\"\n",
    "    else:\n",
    "        return \"Fail\"\n",
    "result = scores.apply(pass_or_fail)\n",
    "result"
   ]
  },
  {
   "cell_type": "code",
   "execution_count": 11,
   "metadata": {},
   "outputs": [
    {
     "data": {
      "text/plain": [
       "Pass    0.714286\n",
       "Fail    0.285714\n",
       "Name: proportion, dtype: float64"
      ]
     },
     "execution_count": 11,
     "metadata": {},
     "output_type": "execute_result"
    }
   ],
   "source": [
    "result.value_counts(normalize=True)"
   ]
  },
  {
   "cell_type": "code",
   "execution_count": 12,
   "metadata": {},
   "outputs": [
    {
     "data": {
      "text/plain": [
       "0      6\n",
       "1     18\n",
       "2     22\n",
       "3     26\n",
       "4      8\n",
       "      ..\n",
       "57    11\n",
       "58    11\n",
       "59    12\n",
       "60    12\n",
       "61    10\n",
       "Name: Fruit, Length: 62, dtype: int64"
      ]
     },
     "execution_count": 12,
     "metadata": {},
     "output_type": "execute_result"
    }
   ],
   "source": [
    "fruit_names.apply(len)"
   ]
  },
  {
   "cell_type": "code",
   "execution_count": null,
   "metadata": {},
   "outputs": [],
   "source": []
  }
 ],
 "metadata": {
  "kernelspec": {
   "display_name": "Python 3",
   "language": "python",
   "name": "python3"
  },
  "language_info": {
   "codemirror_mode": {
    "name": "ipython",
    "version": 3
   },
   "file_extension": ".py",
   "mimetype": "text/x-python",
   "name": "python",
   "nbconvert_exporter": "python",
   "pygments_lexer": "ipython3",
   "version": "3.12.4"
  }
 },
 "nbformat": 4,
 "nbformat_minor": 2
}
