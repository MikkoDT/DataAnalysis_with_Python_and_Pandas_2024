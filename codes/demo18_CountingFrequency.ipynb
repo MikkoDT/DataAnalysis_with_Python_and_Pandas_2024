{
 "cells": [
  {
   "cell_type": "code",
   "execution_count": 1,
   "metadata": {},
   "outputs": [],
   "source": [
    "import numpy as np\n",
    "import pandas as pd\n",
    "from pandas import Series"
   ]
  },
  {
   "cell_type": "code",
   "execution_count": 2,
   "metadata": {},
   "outputs": [
    {
     "data": {
      "text/plain": [
       "0                         Apples\n",
       "1             Apples, applesauce\n",
       "2         Apples, ready-to-drink\n",
       "3     Apples, frozen concentrate\n",
       "4                       Apricots\n",
       "                 ...            \n",
       "57                   Raspberries\n",
       "58                   Raspberries\n",
       "59                  Strawberries\n",
       "60                  Strawberries\n",
       "61                    Watermelon\n",
       "Name: Fruit, Length: 62, dtype: object"
      ]
     },
     "execution_count": 2,
     "metadata": {},
     "output_type": "execute_result"
    }
   ],
   "source": [
    "fruit_names = pd.read_csv('fruit_prices.csv',usecols=['Fruit']).squeeze(\"columns\")\n",
    "fruit_names"
   ]
  },
  {
   "cell_type": "code",
   "execution_count": 3,
   "metadata": {},
   "outputs": [
    {
     "data": {
      "text/plain": [
       "0     1.5193\n",
       "1     1.0660\n",
       "2     0.7804\n",
       "3     0.5853\n",
       "4     2.9665\n",
       "       ...  \n",
       "57    6.6391\n",
       "58    4.1877\n",
       "59    2.5800\n",
       "60    2.8189\n",
       "61    0.3604\n",
       "Name: RetailPrice, Length: 62, dtype: float64"
      ]
     },
     "execution_count": 3,
     "metadata": {},
     "output_type": "execute_result"
    }
   ],
   "source": [
    "fruit_prices = pd.read_csv('fruit_prices.csv',usecols=['RetailPrice']).squeeze(\"columns\")\n",
    "fruit_prices"
   ]
  },
  {
   "cell_type": "code",
   "execution_count": 4,
   "metadata": {},
   "outputs": [
    {
     "data": {
      "text/plain": [
       "Fruit\n",
       "Papaya                                      2\n",
       "Blackberries                                2\n",
       "Mangoes                                     2\n",
       "Peaches                                     2\n",
       "Blueberries                                 2\n",
       "Pineapple                                   2\n",
       "Apricots                                    2\n",
       "Raspberries                                 2\n",
       "Strawberries                                2\n",
       "Oranges, ready-to-drink                     1\n",
       "Oranges, frozen concentrate                 1\n",
       "Pears, packed in juice                      1\n",
       "Oranges                                     1\n",
       "Peaches, packed in juice                    1\n",
       "Peaches, packed in syrup or water           1\n",
       "Pears                                       1\n",
       "Apples                                      1\n",
       "Pineapple, packed in syrup or water         1\n",
       "Pears, packed in syrup or water             1\n",
       "Pineapple, packed in juice                  1\n",
       "Pineapple, ready-to-drink                   1\n",
       "Pineapple, frozen concentrate               1\n",
       "Plum                                        1\n",
       "Plum (prunes)                               1\n",
       "Plum (prune), ready-to-drink                1\n",
       "Pomegranate                                 1\n",
       "Pomegranate, ready-to-drink                 1\n",
       "Nectarines                                  1\n",
       "Honeydew                                    1\n",
       "Kiwi                                        1\n",
       "Apples, applesauce                          1\n",
       "Apples, ready-to-drink                      1\n",
       "Apples, frozen concentrate                  1\n",
       "Apricots, packed in juice                   1\n",
       "Apricots, packed in syrup or water          1\n",
       "Bananas                                     1\n",
       "Berries, mixed                              1\n",
       "Cantaloupe                                  1\n",
       "Cherries                                    1\n",
       "Cherries, packed in syrup or water          1\n",
       "Clementines                                 1\n",
       "Cranberries                                 1\n",
       "Dates                                       1\n",
       "Figs                                        1\n",
       "Fruit cocktail, packed in juice             1\n",
       "Fruit cocktail, packed in syrup or water    1\n",
       "Grapefruit                                  1\n",
       "Grapefruit, ready-to-drink                  1\n",
       "Grapes                                      1\n",
       "Grapes (raisins)                            1\n",
       "Grapes, ready-to-drink                      1\n",
       "Grapes, frozen concentrate                  1\n",
       "Watermelon                                  1\n",
       "Name: count, dtype: int64"
      ]
     },
     "execution_count": 4,
     "metadata": {},
     "output_type": "execute_result"
    }
   ],
   "source": [
    "fruit_names.value_counts()"
   ]
  },
  {
   "cell_type": "code",
   "execution_count": 5,
   "metadata": {},
   "outputs": [
    {
     "data": {
      "text/plain": [
       "Fruit\n",
       "Apples                                      1\n",
       "Apples, applesauce                          1\n",
       "Apples, ready-to-drink                      1\n",
       "Apples, frozen concentrate                  1\n",
       "Apricots                                    2\n",
       "Apricots, packed in juice                   1\n",
       "Apricots, packed in syrup or water          1\n",
       "Bananas                                     1\n",
       "Berries, mixed                              1\n",
       "Blackberries                                2\n",
       "Blueberries                                 2\n",
       "Cantaloupe                                  1\n",
       "Cherries                                    1\n",
       "Cherries, packed in syrup or water          1\n",
       "Clementines                                 1\n",
       "Cranberries                                 1\n",
       "Dates                                       1\n",
       "Figs                                        1\n",
       "Fruit cocktail, packed in juice             1\n",
       "Fruit cocktail, packed in syrup or water    1\n",
       "Grapefruit                                  1\n",
       "Grapefruit, ready-to-drink                  1\n",
       "Grapes                                      1\n",
       "Grapes (raisins)                            1\n",
       "Grapes, ready-to-drink                      1\n",
       "Grapes, frozen concentrate                  1\n",
       "Honeydew                                    1\n",
       "Kiwi                                        1\n",
       "Mangoes                                     2\n",
       "Nectarines                                  1\n",
       "Oranges                                     1\n",
       "Oranges, ready-to-drink                     1\n",
       "Oranges, frozen concentrate                 1\n",
       "Papaya                                      2\n",
       "Peaches                                     2\n",
       "Peaches, packed in juice                    1\n",
       "Peaches, packed in syrup or water           1\n",
       "Pears                                       1\n",
       "Pears, packed in juice                      1\n",
       "Pears, packed in syrup or water             1\n",
       "Pineapple                                   2\n",
       "Pineapple, packed in juice                  1\n",
       "Pineapple, packed in syrup or water         1\n",
       "Pineapple, ready-to-drink                   1\n",
       "Pineapple, frozen concentrate               1\n",
       "Plum                                        1\n",
       "Plum (prunes)                               1\n",
       "Plum (prune), ready-to-drink                1\n",
       "Pomegranate                                 1\n",
       "Pomegranate, ready-to-drink                 1\n",
       "Raspberries                                 2\n",
       "Strawberries                                2\n",
       "Watermelon                                  1\n",
       "Name: count, dtype: int64"
      ]
     },
     "execution_count": 5,
     "metadata": {},
     "output_type": "execute_result"
    }
   ],
   "source": [
    "fruit_names.value_counts(sort=False)"
   ]
  },
  {
   "cell_type": "code",
   "execution_count": 7,
   "metadata": {},
   "outputs": [
    {
     "data": {
      "text/plain": [
       "Fruit\n",
       "Apples                                      1\n",
       "Grapes, frozen concentrate                  1\n",
       "Kiwi                                        1\n",
       "Nectarines                                  1\n",
       "Oranges                                     1\n",
       "Oranges, ready-to-drink                     1\n",
       "Oranges, frozen concentrate                 1\n",
       "Peaches, packed in juice                    1\n",
       "Peaches, packed in syrup or water           1\n",
       "Pears                                       1\n",
       "Grapes, ready-to-drink                      1\n",
       "Pears, packed in juice                      1\n",
       "Pineapple, packed in juice                  1\n",
       "Pineapple, packed in syrup or water         1\n",
       "Pineapple, ready-to-drink                   1\n",
       "Pineapple, frozen concentrate               1\n",
       "Plum                                        1\n",
       "Plum (prunes)                               1\n",
       "Plum (prune), ready-to-drink                1\n",
       "Pomegranate                                 1\n",
       "Pomegranate, ready-to-drink                 1\n",
       "Pears, packed in syrup or water             1\n",
       "Grapes (raisins)                            1\n",
       "Honeydew                                    1\n",
       "Grapefruit, ready-to-drink                  1\n",
       "Apples, applesauce                          1\n",
       "Apples, ready-to-drink                      1\n",
       "Apples, frozen concentrate                  1\n",
       "Apricots, packed in juice                   1\n",
       "Apricots, packed in syrup or water          1\n",
       "Bananas                                     1\n",
       "Berries, mixed                              1\n",
       "Grapes                                      1\n",
       "Cherries                                    1\n",
       "Cherries, packed in syrup or water          1\n",
       "Cantaloupe                                  1\n",
       "Fruit cocktail, packed in juice             1\n",
       "Grapefruit                                  1\n",
       "Fruit cocktail, packed in syrup or water    1\n",
       "Clementines                                 1\n",
       "Figs                                        1\n",
       "Dates                                       1\n",
       "Watermelon                                  1\n",
       "Cranberries                                 1\n",
       "Pineapple                                   2\n",
       "Blueberries                                 2\n",
       "Mangoes                                     2\n",
       "Apricots                                    2\n",
       "Strawberries                                2\n",
       "Papaya                                      2\n",
       "Raspberries                                 2\n",
       "Blackberries                                2\n",
       "Peaches                                     2\n",
       "Name: count, dtype: int64"
      ]
     },
     "execution_count": 7,
     "metadata": {},
     "output_type": "execute_result"
    }
   ],
   "source": [
    "fruit_names.value_counts(ascending=True)"
   ]
  },
  {
   "cell_type": "code",
   "execution_count": 8,
   "metadata": {},
   "outputs": [
    {
     "data": {
      "text/plain": [
       "Fruit\n",
       "Papaya                                      0.032258\n",
       "Blackberries                                0.032258\n",
       "Mangoes                                     0.032258\n",
       "Peaches                                     0.032258\n",
       "Blueberries                                 0.032258\n",
       "Pineapple                                   0.032258\n",
       "Apricots                                    0.032258\n",
       "Raspberries                                 0.032258\n",
       "Strawberries                                0.032258\n",
       "Oranges, ready-to-drink                     0.016129\n",
       "Oranges, frozen concentrate                 0.016129\n",
       "Pears, packed in juice                      0.016129\n",
       "Oranges                                     0.016129\n",
       "Peaches, packed in juice                    0.016129\n",
       "Peaches, packed in syrup or water           0.016129\n",
       "Pears                                       0.016129\n",
       "Apples                                      0.016129\n",
       "Pineapple, packed in syrup or water         0.016129\n",
       "Pears, packed in syrup or water             0.016129\n",
       "Pineapple, packed in juice                  0.016129\n",
       "Pineapple, ready-to-drink                   0.016129\n",
       "Pineapple, frozen concentrate               0.016129\n",
       "Plum                                        0.016129\n",
       "Plum (prunes)                               0.016129\n",
       "Plum (prune), ready-to-drink                0.016129\n",
       "Pomegranate                                 0.016129\n",
       "Pomegranate, ready-to-drink                 0.016129\n",
       "Nectarines                                  0.016129\n",
       "Honeydew                                    0.016129\n",
       "Kiwi                                        0.016129\n",
       "Apples, applesauce                          0.016129\n",
       "Apples, ready-to-drink                      0.016129\n",
       "Apples, frozen concentrate                  0.016129\n",
       "Apricots, packed in juice                   0.016129\n",
       "Apricots, packed in syrup or water          0.016129\n",
       "Bananas                                     0.016129\n",
       "Berries, mixed                              0.016129\n",
       "Cantaloupe                                  0.016129\n",
       "Cherries                                    0.016129\n",
       "Cherries, packed in syrup or water          0.016129\n",
       "Clementines                                 0.016129\n",
       "Cranberries                                 0.016129\n",
       "Dates                                       0.016129\n",
       "Figs                                        0.016129\n",
       "Fruit cocktail, packed in juice             0.016129\n",
       "Fruit cocktail, packed in syrup or water    0.016129\n",
       "Grapefruit                                  0.016129\n",
       "Grapefruit, ready-to-drink                  0.016129\n",
       "Grapes                                      0.016129\n",
       "Grapes (raisins)                            0.016129\n",
       "Grapes, ready-to-drink                      0.016129\n",
       "Grapes, frozen concentrate                  0.016129\n",
       "Watermelon                                  0.016129\n",
       "Name: proportion, dtype: float64"
      ]
     },
     "execution_count": 8,
     "metadata": {},
     "output_type": "execute_result"
    }
   ],
   "source": [
    "fruit_names.value_counts(normalize=True)"
   ]
  },
  {
   "cell_type": "code",
   "execution_count": null,
   "metadata": {},
   "outputs": [],
   "source": []
  }
 ],
 "metadata": {
  "kernelspec": {
   "display_name": "Python 3",
   "language": "python",
   "name": "python3"
  },
  "language_info": {
   "codemirror_mode": {
    "name": "ipython",
    "version": 3
   },
   "file_extension": ".py",
   "mimetype": "text/x-python",
   "name": "python",
   "nbconvert_exporter": "python",
   "pygments_lexer": "ipython3",
   "version": "3.12.4"
  }
 },
 "nbformat": 4,
 "nbformat_minor": 2
}
